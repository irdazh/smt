# %% [markdown]
# ## Analisis Regresi Ganda
# Let's just copy some work.
# And yeah, cool right?
# 
# Do remove the outputs if it bothers too much. Anw, what'll do:
# - Prapemrosesan Data
#     - Data Cleaning
#     - NA Analysis
#     - Outlier
#     - Feature Selection
#     - Dimensionality Red.
#     - Oversampling/Undersampling
# - EVD
# - Pemodelan dan Optimasi
# - Simpulan,Saran, dan Rekomendasi

# %% [markdown]
# ### Open Library OFC.
# and listing files

# %% [code] {"_execution_state":"idle","_kg_hide-input":true,"execution":{"iopub.status.busy":"2022-12-14T13:22:00.926690Z","iopub.execute_input":"2022-12-14T13:22:00.928974Z","iopub.status.idle":"2022-12-14T13:22:02.750790Z"}}
# Library
library(tidyverse)

# %% [markdown]
# ### Read and Preprocessing Data 1
# Buat dan edit tiap variabel dalam 1 sel, sehingga meminimalisasi error dan redundansi
# - read
# - delete useless row
# - rename name ofc
# - change data type
# - omit NA

# %% [code] {"_kg_hide-output":true,"execution":{"iopub.status.busy":"2022-12-14T13:22:02.754447Z","iopub.execute_input":"2022-12-14T13:22:02.788289Z","iopub.status.idle":"2022-12-14T13:22:03.614313Z"}}
# Note
    # df: initial data
    # df1: rename, as.numeric
library(readxl)

df = read_xlsx(path = "../input/nsc2022/semifinal.xlsx")

# delete useless row
df1 = df[-1,]
str(df1) # or using glimpse, str
names(df1)

# rename
nama.0 = c("PPM","RL1", "PPK", "IPM", "UHH", 
                      "RL2", "San", "Air", "TPT", "TPK", "PDR")
nama.1 = c("Wilayah", paste(rep(nama.0, each=3), 19:21, sep=""))


names(df1) = nama.1

# data type using lapply
df1[,-1] = lapply(df1[,-1], as.numeric)

# get summary and NA's
str(df1)

# %% [code] {"execution":{"iopub.status.busy":"2022-12-14T13:22:03.617974Z","iopub.execute_input":"2022-12-14T13:22:03.619748Z","iopub.status.idle":"2022-12-14T13:22:03.733600Z"}}
# df2: add provinsi, del. prov, as.factor

df2 = cbind(df1[,1], df1)

for (i in 2:nrow(df2)){
    df2[i,1] = ifelse(is.na(df2[i,3])==F,df2[i-1,1],df2[i,1])
}

colnames(df2)[1:2]= c("Prov","Kab")

df2 = df2[!is.na(df1$PPM19),]

df2[,1:2] = lapply(df2[,1:2], as.factor)

str(df2) #dah bersih


# %% [markdown]
# ## Oke, ini bersih

# %% [code] {"execution":{"iopub.status.busy":"2022-12-14T13:22:03.737813Z","iopub.execute_input":"2022-12-14T13:22:03.739827Z","iopub.status.idle":"2022-12-14T13:22:07.891704Z"}}
library(finalfit)

# df3: pivot longer.
df3 = df2
df3 = 
    df3 %>% 
    pivot_longer(cols=3:ncol(df3), 
                 names_to=c(".value", "tahun"), 
                 names_pattern="(...)(..)" )
str(df3)


hist(df3$PDR, xlab="PDRB", ylab="Frekuensi", main="")

# no NA's
missing_pattern(df3)

# df4: only 2021 and do log
df4 = df3[df3$tahun==21, -3]
df4[,"PDR"] = lapply(df4[,"PDR"], log)
str(df4)

summary(df3$PDR)
summary(df4$PDR)


# %% [markdown]
# ## Do what?
# Analisis ini bertujuan untuk mengetahui faktor-faktor sosal-kependudukan apa saja yang berpengaruh terhadap kondisi ekonomi masyarakat Indonesia tahun 2021. Kondisi ekonomi tersebut diukur melalui indikator
# [PDRB](https://www.bps.go.id/subject/171/produk-domestik-regional-bruto--pengeluaran-.html#subjekViewTab2)
# atas harga konstan dengan pendekatan pengeluaran.
# 

# %% [code] {"execution":{"iopub.status.busy":"2022-12-14T13:22:07.897723Z","iopub.execute_input":"2022-12-14T13:22:07.907289Z","iopub.status.idle":"2022-12-14T13:22:09.473026Z"}}
# corrplot: df4
library(corrplot)
library(olsrr)

# Corr and Plot
corr = cor(df4[,-c(1:2)])

# Berkorelasi secara sangat lemah hingga cukup
corrplot(corr, type="low", diag=F, method="num")

lm1 = lm(PDR ~.-Prov-Kab,df4)
ols_vif_tol(lm1)

plot(lm1)

# %% [markdown]
# ### Preprocessing Data 2
# Oke?
# - NA filling
# - 

# %% [code] {"execution":{"iopub.status.busy":"2022-12-14T13:27:04.921478Z","iopub.execute_input":"2022-12-14T13:27:04.923459Z","iopub.status.idle":"2022-12-14T13:27:05.598611Z"}}
set.seed(123)

# Ridge and Lasso regression
library(glmnet)

# x-y and test-train
id.test = sample(1:nrow(df4), nrow(df4)/2)
id.train = -id.test

x = as.matrix(df4[,3:12])
y = df4$PDR
hist(y)

df5 = df4[,3:13]

# LM model
# Full
lm1.mod = lm(PDR~., df5, subset=id.train)
summary(lm1.mod)
lm1.pred = predict(lm1.mod, df5[id.test,])
mean((lm1.pred-y[id.test])^2) #tapi bermasalah

# grid lambda
grid = 10^seq(10, -2, length=100)

# RIDGE model
ridge.mod = glmnet(x[id.train, ], y[id.train], alpha=0, lambda=grid)

ridge.cv = cv.glmnet(x[id.train, ], y[id.train], alpha=0)
plot(ridge.cv)
ridge.lam = ridge.cv$lambda.min

# model for some lambda: 0-RSS,best 
ridge.pred0 = predict(ridge.mod, s=0, newx=x[id.test,], exact=T, 
                     x=x[id.train,], y=y[id.train])
mean((ridge.pred0-y[id.test])^2)

ridge.pred1 = predict(ridge.mod, s=ridge.lam, newx=x[id.test,], 
                     x=x[id.train,], y=y[id.train])
mean((ridge.pred1-y[id.test])^2)

# coef 
ridge.df = glmnet(x, y, alpha=0)
predict(ridge.df, type="coeff", s=ridge.lam)


# LASSO model
lasso.mod = glmnet(x[id.train, ], y[id.train], alpha=1, lambda=grid)

lasso.cv = cv.glmnet(x[id.train, ], y[id.train], alpha=1)
plot(lasso.cv)
lasso.lam = lasso.cv$lambda.min

# model for some lambda: 0-RSS,best 
lasso.pred1 = predict(lasso.mod, s=lasso.lam, newx=x[id.test,], 
                     x=x[id.train,], y=y[id.train])

mean((lasso.pred1-y[id.test])^2)
mean((mean(y[id.test])-y[id.test])^2)


# coef 
lasso.df = glmnet(x, y, alpha=1)
lasso.coef = predict(lasso.df, type="coeff", s=lasso.lam)

lasso.pred2 = predict(lasso.df, s=lasso.lam, newx=x[1:3,],  
                     x=x, y=y)
lasso.pred2
cbind(1,x[1:3,])%*%lasso.coef

cat("lambda: ",lasso.lam, "\n")
lasso.coef


predict(lasso.df, type="coeff", s=0.1)





# %% [markdown]
# 

# %% [code] {"execution":{"iopub.status.busy":"2022-12-14T13:42:02.733630Z","iopub.execute_input":"2022-12-14T13:42:02.735800Z","iopub.status.idle":"2022-12-14T13:42:02.752784Z"}}
cat(paste(round(lasso.coef,4), rownames(lasso.coef)), sep=" + ")

# %% [code]


# %% [markdown]
# ### EDA
# Isinya ya eksplorasi data, just what ur expectations?

# %% [code]
